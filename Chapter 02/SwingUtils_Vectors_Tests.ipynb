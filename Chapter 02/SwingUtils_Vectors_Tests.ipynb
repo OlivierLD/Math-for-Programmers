{
 "cells": [
  {
   "cell_type": "markdown",
   "metadata": {},
   "source": [
    "# SwingUtil / Vectors tests"
   ]
  },
  {
   "cell_type": "code",
   "execution_count": 1,
   "metadata": {},
   "outputs": [],
   "source": [
    "%classpath add jar \"./build/libs/Chapter 02-1.0.jar\""
   ]
  },
  {
   "cell_type": "code",
   "execution_count": 2,
   "metadata": {},
   "outputs": [],
   "source": [
    "import chap02.*;\n",
    "import chap02.SwingUtils.*;\n",
    "import chap02.VectorUtils.*;\n",
    "\n",
    "import java.awt.Color;\n",
    "import java.awt.Dimension;\n",
    "import java.awt.Font;\n",
    "import java.awt.Point;"
   ]
  },
  {
   "cell_type": "code",
   "execution_count": 3,
   "metadata": {},
   "outputs": [
    {
     "data": {
      "text/plain": [
       "Running from folder /Users/olivierlediouris/repos/MathForProgrammersForked/Chapter 02"
      ]
     },
     "execution_count": 3,
     "metadata": {},
     "output_type": "execute_result"
    }
   ],
   "source": [
    "// Environment\n",
    "String.format(\"Running from folder %s\", System.getProperty(\"user.dir\"));"
   ]
  },
  {
   "cell_type": "code",
   "execution_count": 4,
   "metadata": {},
   "outputs": [
    {
     "data": {
      "text/plain": [
       "Java version 11.0.8"
      ]
     },
     "execution_count": 4,
     "metadata": {},
     "output_type": "execute_result"
    }
   ],
   "source": [
    "// Environment\n",
    "String.format(\"Java version %s\", System.getProperty(\"java.version\"));"
   ]
  },
  {
   "cell_type": "markdown",
   "metadata": {},
   "source": [
    "### Show an empty WhiteBoard, with its axes"
   ]
  },
  {
   "cell_type": "code",
   "execution_count": 5,
   "metadata": {},
   "outputs": [],
   "source": [
    "private final static int WIDTH = 860;\n",
    "private final static int HEIGHT = 600;"
   ]
  },
  {
   "cell_type": "code",
   "execution_count": 6,
   "metadata": {},
   "outputs": [
    {
     "data": {
      "image/png": "[encoded data removed]",
      "text/plain": [
       "BufferedImage@7ced7ed2: type = 1 DirectColorModel: rmask=ff0000 gmask=ff00 bmask=ff amask=0 IntegerInterleavedRaster: width = 860 height = 600 #Bands = 3 xOff = 0 yOff = 0 dataOffset[0] 0"
      ]
     },
     "execution_count": 6,
     "metadata": {},
     "output_type": "execute_result"
    }
   ],
   "source": [
    "WhiteBoardPanel whiteBoard = new WhiteBoardPanel();\n",
    "Dimension dimension = new Dimension(WIDTH, HEIGHT);\n",
    "whiteBoard.setSize(dimension);\n",
    "whiteBoard.setWhiteBoardWriter(g2d -> {\n",
    "    g2d.setColor(Color.WHITE);\n",
    "    g2d.fillRect(0, 0, dimension.width, dimension.height);\n",
    "    // Vertical (left) Arrow\n",
    "    WhiteBoardPanel.drawArrow(g2d,\n",
    "            new Point(10, HEIGHT),\n",
    "            new Point(10,  10),\n",
    "            Color.BLACK);\n",
    "    // Horizontal (bottom) Arrow\n",
    "    WhiteBoardPanel.drawArrow(g2d,\n",
    "            new Point(0, HEIGHT - 10),\n",
    "            new Point(WIDTH - 10, HEIGHT - 10),\n",
    "            Color.BLACK);\n",
    "    g2d.setColor(Color.LIGHT_GRAY);\n",
    "    g2d.setFont(g2d.getFont().deriveFont(Font.BOLD | Font.ITALIC).deriveFont(30f));\n",
    "    g2d.drawString(\"GOOD TO GO.\", 100, HEIGHT / 2);\n",
    "});\n",
    "whiteBoard.getImage();"
   ]
  },
  {
   "cell_type": "markdown",
   "metadata": {},
   "source": [
    "Find the graphical range"
   ]
  },
  {
   "cell_type": "code",
   "execution_count": 7,
   "metadata": {},
   "outputs": [],
   "source": [
    "// Get the range here\n",
    "Vector2D one = new Vector2D(-1, -2);\n",
    "Vector2D two = new Vector2D(3, 4);\n",
    "Vector2D three = VectorUtils.toPolar(one);\n",
    "Vector2D four = new Vector2D(5, 6);\n",
    "\n",
    "GraphicRange graphicRange = VectorUtils.findGraphicRange(one, two, three, four);\n",
    "double xAmplitude = graphicRange.getMaxX() - graphicRange.getMinX();\n",
    "double yAmplitude = graphicRange.getMaxY() - graphicRange.getMinY();"
   ]
  },
  {
   "cell_type": "code",
   "execution_count": 8,
   "metadata": {},
   "outputs": [
    {
     "data": {
      "text/plain": [
       "One Unit: 74.678472"
      ]
     },
     "execution_count": 8,
     "metadata": {},
     "output_type": "execute_result"
    }
   ],
   "source": [
    "double oneUnit = Math.min(WIDTH / xAmplitude, HEIGHT / yAmplitude);\n",
    "String.format(\"One Unit: %f\", oneUnit);"
   ]
  },
  {
   "cell_type": "code",
   "execution_count": 9,
   "metadata": {},
   "outputs": [
    {
     "data": {
      "image/png": "[encoded data removed]",
      "text/plain": [
       "BufferedImage@3a7d6fcb: type = 1 DirectColorModel: rmask=ff0000 gmask=ff00 bmask=ff amask=0 IntegerInterleavedRaster: width = 860 height = 600 #Bands = 3 xOff = 0 yOff = 0 dataOffset[0] 0"
      ]
     },
     "execution_count": 9,
     "metadata": {},
     "output_type": "execute_result"
    }
   ],
   "source": [
    "double x0 = Math.round(0 - graphicRange.getMinX()) * oneUnit;\n",
    "double y0 = Math.round(0 - graphicRange.getMinY()) * oneUnit;\n",
    "//\n",
    "int CIRCLE_DIAM = 30;\n",
    "\n",
    "whiteBoard.setWhiteBoardWriter(g2d -> {\n",
    "    g2d.setColor(Color.WHITE);\n",
    "    g2d.fillRect(0, 0, dimension.width, dimension.height);\n",
    "    // Verticat (left) Arrow\n",
    "    WhiteBoardPanel.drawArrow(g2d,\n",
    "            new Point((int)Math.round(x0), HEIGHT),\n",
    "            new Point((int)Math.round(x0), 0),\n",
    "            Color.BLACK);\n",
    "\n",
    "    g2d.setColor(Color.BLACK);\n",
    "    int xTick = 0;\n",
    "    while (xTick < WIDTH) {\n",
    "      g2d.drawLine(xTick, HEIGHT - (int)Math.round(y0 - 5), \n",
    "                   xTick, HEIGHT - (int)Math.round(y0 + 5));\n",
    "      xTick = (int)Math.round(xTick + oneUnit); \n",
    "    }\n",
    "\n",
    "    // Horizontal (bottom) Arrow\n",
    "    WhiteBoardPanel.drawArrow(g2d,\n",
    "            new Point(0, HEIGHT - (int)Math.round(y0)),\n",
    "            new Point(WIDTH - 10, HEIGHT - (int)Math.round(y0)),\n",
    "            Color.BLACK);\n",
    "\n",
    "    g2d.setColor(Color.BLACK);\n",
    "    int yTick = 0;\n",
    "    while (yTick < HEIGHT) {\n",
    "      g2d.drawLine((int)Math.round(x0 - 5), HEIGHT - yTick, \n",
    "                   (int)Math.round(x0 + 5), HEIGHT - yTick);\n",
    "      yTick = (int)Math.round(yTick + oneUnit); \n",
    "    }\n",
    "\n",
    "\n",
    "    g2d.setColor(Color.LIGHT_GRAY);\n",
    "    g2d.setFont(g2d.getFont().deriveFont(Font.BOLD | Font.ITALIC).deriveFont(30f));\n",
    "    \n",
    "    // Points\n",
    "    g2d.setColor(new Color(0, 0, 255, 125)); // blue\n",
    "    int pointX = (int)Math.round((one.getX() - graphicRange.getMinX()) * oneUnit);\n",
    "    int pointY = (int)Math.round((one.getY() - graphicRange.getMinY()) * oneUnit);\n",
    "    g2d.fillOval(pointX - (CIRCLE_DIAM / 2),\n",
    "                 HEIGHT - pointY - (CIRCLE_DIAM / 2),\n",
    "                 CIRCLE_DIAM, CIRCLE_DIAM);\n",
    "    WhiteBoardPanel.drawArrow(g2d,\n",
    "            new Point((int)Math.round(x0), HEIGHT - (int)Math.round(y0)),\n",
    "            new Point(pointX, HEIGHT - pointY),\n",
    "            new Color(0, 0, 255, 125));\n",
    "\n",
    "    g2d.setColor(new Color(255, 0, 0, 125)); // red\n",
    "    pointX = (int)Math.round((two.getX() - graphicRange.getMinX()) * oneUnit);\n",
    "    pointY = (int)Math.round((two.getY() - graphicRange.getMinY()) * oneUnit);\n",
    "    g2d.fillOval(pointX - (CIRCLE_DIAM / 2),\n",
    "                 HEIGHT - pointY - (CIRCLE_DIAM / 2),\n",
    "                 CIRCLE_DIAM, CIRCLE_DIAM);\n",
    "    WhiteBoardPanel.drawArrow(g2d,\n",
    "            new Point((int)Math.round(x0), HEIGHT - (int)Math.round(y0)),\n",
    "            new Point(pointX, HEIGHT - pointY),\n",
    "            new Color(255, 0, 0, 125));\n",
    "\n",
    "    g2d.setColor(new Color(0, 255, 0, 125)); // green\n",
    "    pointX = (int)Math.round((three.getX() - graphicRange.getMinX()) * oneUnit);\n",
    "    pointY = (int)Math.round((three.getY() - graphicRange.getMinY()) * oneUnit);\n",
    "    g2d.fillOval(pointX - (CIRCLE_DIAM / 2),\n",
    "                 HEIGHT - pointY - (CIRCLE_DIAM / 2),\n",
    "                 CIRCLE_DIAM, CIRCLE_DIAM);\n",
    "    WhiteBoardPanel.drawArrow(g2d,\n",
    "            new Point((int)Math.round(x0), HEIGHT - (int)Math.round(y0)),\n",
    "            new Point(pointX, HEIGHT - pointY),\n",
    "            new Color(0, 255, 0, 125));\n",
    "\n",
    "    g2d.setColor(new Color(0, 255, 255, 125)); // cyan\n",
    "    pointX = (int)Math.round((four.getX() - graphicRange.getMinX()) * oneUnit);\n",
    "    pointY = (int)Math.round((four.getY() - graphicRange.getMinY()) * oneUnit);\n",
    "    g2d.fillOval(pointX - (CIRCLE_DIAM / 2),\n",
    "                 HEIGHT - pointY - (CIRCLE_DIAM / 2),\n",
    "                 CIRCLE_DIAM, CIRCLE_DIAM);\n",
    "    WhiteBoardPanel.drawArrow(g2d,\n",
    "            new Point((int)Math.round(x0), HEIGHT - (int)Math.round(y0)),\n",
    "            new Point(pointX, HEIGHT - pointY),\n",
    "            new Color(0, 255, 255, 125));\n",
    "});\n",
    "whiteBoard.getImage();"
   ]
  },
  {
   "cell_type": "code",
   "execution_count": null,
   "metadata": {},
   "outputs": [],
   "source": []
  }
 ],
 "metadata": {
  "kernelspec": {
   "display_name": "Java",
   "language": "java",
   "name": "java"
  },
  "language_info": {
   "codemirror_mode": "java",
   "file_extension": ".jshell",
   "mimetype": "text/x-java-source",
   "name": "Java",
   "pygments_lexer": "java",
   "version": "11.0.8+10-LTS"
  }
 },
 "nbformat": 4,
 "nbformat_minor": 4
}
