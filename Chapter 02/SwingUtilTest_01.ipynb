{
 "cells": [
  {
   "cell_type": "markdown",
   "metadata": {},
   "source": [
    "# WiP - SwingUtil test page"
   ]
  },
  {
   "cell_type": "code",
   "execution_count": 1,
   "metadata": {},
   "outputs": [],
   "source": [
    "%classpath add jar \"../Algebra-1.0-all.jar\""
   ]
  },
  {
   "cell_type": "code",
   "execution_count": 2,
   "metadata": {},
   "outputs": [],
   "source": [
    "import gsg.SwingUtils.*;\n",
    "\n",
    "import java.awt.Color;\n",
    "import java.awt.Dimension;\n",
    "import java.awt.Font;\n",
    "import java.awt.Point;"
   ]
  },
  {
   "cell_type": "code",
   "execution_count": 3,
   "metadata": {},
   "outputs": [
    {
     "data": {
      "text/plain": [
       "Running from folder /Users/olivierlediouris/repos/MathForProgrammersForked/Chapter 02"
      ]
     },
     "execution_count": 3,
     "metadata": {},
     "output_type": "execute_result"
    }
   ],
   "source": [
    "// Environment\n",
    "String.format(\"Running from folder %s\", System.getProperty(\"user.dir\"));"
   ]
  },
  {
   "cell_type": "code",
   "execution_count": 4,
   "metadata": {},
   "outputs": [
    {
     "data": {
      "text/plain": [
       "Java version 11.0.8"
      ]
     },
     "execution_count": 4,
     "metadata": {},
     "output_type": "execute_result"
    }
   ],
   "source": [
    "// Environment\n",
    "String.format(\"Java version %s\", System.getProperty(\"java.version\"));"
   ]
  },
  {
   "cell_type": "markdown",
   "metadata": {},
   "source": [
    "## A Java/Swing WhiteBoard"
   ]
  },
  {
   "cell_type": "code",
   "execution_count": 5,
   "metadata": {},
   "outputs": [
    {
     "data": {
      "image/png": "[encoded data removed]",
      "text/plain": [
       "BufferedImage@39181d9d: type = 1 DirectColorModel: rmask=ff0000 gmask=ff00 bmask=ff amask=0 IntegerInterleavedRaster: width = 800 height = 600 #Bands = 3 xOff = 0 yOff = 0 dataOffset[0] 0"
      ]
     },
     "execution_count": 5,
     "metadata": {},
     "output_type": "execute_result"
    }
   ],
   "source": [
    "WhiteBoardPanel whiteBoard = new WhiteBoardPanel();\n",
    "Dimension dimension = new Dimension(800, 600);\n",
    "whiteBoard.setSize(dimension);\n",
    "whiteBoard.setWhiteBoardWriter(g2d -> {\n",
    "            g2d.setColor(Color.RED);\n",
    "            g2d.fillRect(0, 0, dimension.width, dimension.height);\n",
    "            g2d.setFont(new Font(\"courier\", Font.BOLD | Font.ITALIC, 32));\n",
    "            g2d.setColor(Color.PINK);\n",
    "            g2d.drawString(\"This is your RED whiteboard!\", 10, 40);\n",
    "            g2d.setColor(Color.LIGHT_GRAY);\n",
    "            g2d.setFont(g2d.getFont().deriveFont(Font.BOLD).deriveFont(16f));\n",
    "            String message = \"Use the WhiteBoardPanel.setWhiteBoardWriter method.\";\n",
    "            g2d.drawString(message, 40, 80);\n",
    "            g2d.setColor(Color.BLACK);\n",
    "            g2d.drawOval(50, 100, dimension.width - 100, dimension.height - 200);\n",
    "            // Arrow\n",
    "            WhiteBoardPanel.drawArrow(g2d,\n",
    "                    new Point(400, 300),\n",
    "                    new Point(300, 200),\n",
    "                    Color.WHITE);\n",
    "        });\n",
    "\n",
    "whiteBoard.getImage();"
   ]
  },
  {
   "cell_type": "code",
   "execution_count": null,
   "metadata": {},
   "outputs": [],
   "source": []
  }
 ],
 "metadata": {
  "kernelspec": {
   "display_name": "Java",
   "language": "java",
   "name": "java"
  },
  "language_info": {
   "codemirror_mode": "java",
   "file_extension": ".jshell",
   "mimetype": "text/x-java-source",
   "name": "Java",
   "pygments_lexer": "java",
   "version": "11.0.8+10-LTS"
  }
 },
 "nbformat": 4,
 "nbformat_minor": 4
}
