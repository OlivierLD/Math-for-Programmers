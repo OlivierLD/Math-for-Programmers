{
 "cells": [
  {
   "cell_type": "markdown",
   "metadata": {},
   "source": [
    "# WiP - SwingUtil test page\n",
    "To build the required artifact(s), run the following command from the folder where this notebook lives:\n",
    "```\n",
    "$ ../gradlew clean build\n",
    "```\n",
    "Then the following cell would work as expected."
   ]
  },
  {
   "cell_type": "code",
   "execution_count": 8,
   "metadata": {},
   "outputs": [],
   "source": [
    "%classpath add jar \"./build/libs/Chapter 02-1.0.jar\""
   ]
  },
  {
   "cell_type": "code",
   "execution_count": 14,
   "metadata": {},
   "outputs": [],
   "source": [
    "import chap02.SwingUtils.*;\n",
    "\n",
    "import java.awt.Color;\n",
    "import java.awt.Dimension;\n",
    "import java.awt.Font;"
   ]
  },
  {
   "cell_type": "markdown",
   "metadata": {},
   "source": [
    "## A Java/Swing WhiteBoard"
   ]
  },
  {
   "cell_type": "code",
   "execution_count": 16,
   "metadata": {},
   "outputs": [
    {
     "data": {
      "image/png": "[encoded data removed]",
      "text/plain": [
       "BufferedImage@4d576c78: type = 1 DirectColorModel: rmask=ff0000 gmask=ff00 bmask=ff amask=0 IntegerInterleavedRaster: width = 800 height = 600 #Bands = 3 xOff = 0 yOff = 0 dataOffset[0] 0"
      ]
     },
     "execution_count": 16,
     "metadata": {},
     "output_type": "execute_result"
    }
   ],
   "source": [
    "WhiteBoardPanel whiteBoard = new WhiteBoardPanel();\n",
    "Dimension dimension = new Dimension(800, 600);\n",
    "whiteBoard.setSize(dimension);\n",
    "whiteBoard.setWhiteBoardWriter(g2d -> {\n",
    "            g2d.setColor(Color.RED);\n",
    "            g2d.fillRect(0, 0, dimension.width, dimension.height);\n",
    "            g2d.setFont(new Font(\"courier\", Font.BOLD | Font.ITALIC, 32));\n",
    "            g2d.setColor(Color.PINK);\n",
    "            g2d.drawString(\"This is your RED whiteboard!\", 10, 40);\n",
    "            g2d.setColor(Color.LIGHT_GRAY);\n",
    "            g2d.setFont(g2d.getFont().deriveFont(Font.BOLD).deriveFont(16f));\n",
    "            String message = \"Use the WhiteBoardPanel.setWhiteBoardWriter method.\";\n",
    "            g2d.drawString(message, 40, 80);\n",
    "            g2d.setColor(Color.BLACK);\n",
    "            g2d.drawOval(50, 100, dimension.width - 100, dimension.height - 200);\n",
    "        });\n",
    "\n",
    "whiteBoard.getImage();"
   ]
  },
  {
   "cell_type": "code",
   "execution_count": null,
   "metadata": {},
   "outputs": [],
   "source": []
  }
 ],
 "metadata": {
  "kernelspec": {
   "display_name": "Java",
   "language": "java",
   "name": "java"
  },
  "language_info": {
   "codemirror_mode": "java",
   "file_extension": ".jshell",
   "mimetype": "text/x-java-source",
   "name": "Java",
   "pygments_lexer": "java",
   "version": "11.0.8+10-LTS"
  }
 },
 "nbformat": 4,
 "nbformat_minor": 4
}
