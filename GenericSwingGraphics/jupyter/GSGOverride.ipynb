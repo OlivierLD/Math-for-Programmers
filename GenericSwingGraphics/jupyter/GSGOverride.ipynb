{
 "cells": [
  {
   "cell_type": "markdown",
   "metadata": {},
   "source": [
    "# Overriding the WhiteBoardWriter\n",
    "Does not quite work yet..."
   ]
  },
  {
   "cell_type": "code",
   "execution_count": 9,
   "metadata": {},
   "outputs": [],
   "source": [
    "%classpath add jar \"../build/libs/GenericSwingGraphics-1.0.jar\"\n",
    "%classpath add jar \"../../chartcomponents-4.0.0.0-all.jar\""
   ]
  },
  {
   "cell_type": "code",
   "execution_count": 10,
   "metadata": {},
   "outputs": [],
   "source": [
    "import gsg.SwingUtils.*;\n",
    "import gsg.VectorUtils;\n",
    "import static gsg.VectorUtils.Vector2D;\n",
    "\n",
    "import java.awt.BorderLayout;\n",
    "import java.awt.Color;\n",
    "import java.awt.Dimension;\n",
    "import java.awt.Font;\n",
    "import java.awt.Point;\n",
    "\n",
    "import java.util.stream.Collectors;\n",
    "\n",
    "import examples.globe.CommandPanel;"
   ]
  },
  {
   "cell_type": "code",
   "execution_count": 11,
   "metadata": {},
   "outputs": [
    {
     "data": {
      "text/plain": [
       "Running from folder /Users/olivierlediouris/repos/MathForProgrammersForked/GenericSwingGraphics/jupyter"
      ]
     },
     "execution_count": 11,
     "metadata": {},
     "output_type": "execute_result"
    }
   ],
   "source": [
    "// Environment\n",
    "String.format(\"Running from folder %s\", System.getProperty(\"user.dir\"));"
   ]
  },
  {
   "cell_type": "code",
   "execution_count": 12,
   "metadata": {},
   "outputs": [
    {
     "data": {
      "text/plain": [
       "Java version 11.0.8"
      ]
     },
     "execution_count": 12,
     "metadata": {},
     "output_type": "execute_result"
    }
   ],
   "source": [
    "// Environment\n",
    "String.format(\"Java version %s\", System.getProperty(\"java.version\"));"
   ]
  },
  {
   "cell_type": "code",
   "execution_count": 13,
   "metadata": {},
   "outputs": [
    {
     "data": {
      "text/plain": [
       "true"
      ]
     },
     "execution_count": 13,
     "metadata": {},
     "output_type": "execute_result"
    }
   ],
   "source": [
    "System.setProperty(\"chart.verbose\", \"true\");"
   ]
  },
  {
   "cell_type": "code",
   "execution_count": 14,
   "metadata": {},
   "outputs": [
    {
     "name": "stdout",
     "output_type": "stream",
     "text": [
      "jbInit invoked on examples.globe.CommandPanel\n"
     ]
    }
   ],
   "source": [
    "static CommandPanel commandPanel = new CommandPanel(null);"
   ]
  },
  {
   "cell_type": "code",
   "execution_count": 15,
   "metadata": {},
   "outputs": [],
   "source": [
    "WhiteBoardPanel whiteBoard = new WhiteBoardPanel();\n",
    "whiteBoard.setSize(new Dimension(800, 600));\n",
    "whiteBoard.setLayout(new BorderLayout());\n",
    "whiteBoard.add(commandPanel, BorderLayout.CENTER);"
   ]
  },
  {
   "cell_type": "code",
   "execution_count": 16,
   "metadata": {},
   "outputs": [
    {
     "name": "stdout",
     "output_type": "stream",
     "text": [
      "chartPanelPaintComponent invoked on examples.globe.CommandPanel\n",
      "Drawing World Chart\n"
     ]
    },
    {
     "data": {
      "image/png": "[encoded data removed]",
      "text/plain": [
       "BufferedImage@54bd3c8f: type = 1 DirectColorModel: rmask=ff0000 gmask=ff00 bmask=ff amask=0 IntegerInterleavedRaster: width = 800 height = 600 #Bands = 3 xOff = 0 yOff = 0 dataOffset[0] 0"
      ]
     },
     "execution_count": 16,
     "metadata": {},
     "output_type": "execute_result"
    }
   ],
   "source": [
    "whiteBoard.setWhiteBoardWriter(g2d -> {\n",
    "    g2d.setBackground(Color.WHITE);\n",
    "    commandPanel.chartPanelPaintComponent(g2d);\n",
    "    // commandPanel.repaint();\n",
    "});\n",
    "// Display it\n",
    "whiteBoard.getImage(); // This is for a Notebook"
   ]
  },
  {
   "cell_type": "code",
   "execution_count": null,
   "metadata": {},
   "outputs": [],
   "source": []
  }
 ],
 "metadata": {
  "kernelspec": {
   "display_name": "Java",
   "language": "java",
   "name": "java"
  },
  "language_info": {
   "codemirror_mode": "java",
   "file_extension": ".jshell",
   "mimetype": "text/x-java-source",
   "name": "Java",
   "pygments_lexer": "java",
   "version": "11.0.8+10-LTS"
  }
 },
 "nbformat": 4,
 "nbformat_minor": 4
}
